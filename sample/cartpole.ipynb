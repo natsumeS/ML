{
 "cells": [
  {
   "cell_type": "code",
   "execution_count": 29,
   "metadata": {},
   "outputs": [
    {
     "name": "stdout",
     "output_type": "stream",
     "text": [
      "The autoreload extension is already loaded. To reload it, use:\n",
      "  %reload_ext autoreload\n"
     ]
    }
   ],
   "source": [
    "%load_ext autoreload\n",
    "%autoreload 2\n",
    "import numpy as np\n",
    "import gym\n",
    "import os\n",
    "import sys\n",
    "from pathlib import Path\n",
    "import matplotlib.pyplot as plt\n",
    "\n",
    "sys.path.append(str(Path(os.path.dirname(os.path.abspath(\"__file__\"))).parent))"
   ]
  },
  {
   "cell_type": "code",
   "execution_count": 10,
   "metadata": {},
   "outputs": [
    {
     "name": "stdout",
     "output_type": "stream",
     "text": [
      "action-space:Discrete(2)\n",
      "observation-space:Box(4,)\n",
      "#observation.high\n",
      "[4.8000002e+00 3.4028235e+38 4.1887903e-01 3.4028235e+38]\n",
      "#observation.low\n",
      "[-4.8000002e+00 -3.4028235e+38 -4.1887903e-01 -3.4028235e+38]\n"
     ]
    }
   ],
   "source": [
    "env = gym.make(\"CartPole-v0\")\n",
    "print(\"action-space:{}\".format(env.action_space))\n",
    "print(\"observation-space:{}\".format(env.observation_space))\n",
    "print(\"#observation.high\")\n",
    "print(env.observation_space.high)\n",
    "print(\"#observation.low\")\n",
    "print(env.observation_space.low)"
   ]
  },
  {
   "cell_type": "code",
   "execution_count": 11,
   "metadata": {
    "collapsed": true
   },
   "outputs": [],
   "source": [
    "# state space : we divide each elements into five block\n",
    "divide_num = 6\n",
    "action_num = 2\n",
    "observe_num = 4\n",
    "state_num = divide_num ** observe_num\n",
    "bin_high = env.observation_space.high\n",
    "bin_low = env.observation_space.low\n",
    "bins = []\n",
    "for i in range(4):\n",
    "    b = np.linspace(bin_low[i], bin_high[i], num=divide_num, endpoint=False)\n",
    "    b = np.delete(b, 0)\n",
    "    bins.append(b)\n",
    "\n",
    "#define callable : state -> id\n",
    "def get_state_id_func(state):\n",
    "    sid = 0\n",
    "    for i in range(observe_num):\n",
    "        sid *= divide_num\n",
    "        sid += np.digitize(state[i], bins[i])\n",
    "    return sid"
   ]
  },
  {
   "cell_type": "markdown",
   "metadata": {},
   "source": [
    "## Qlearning"
   ]
  },
  {
   "cell_type": "code",
   "execution_count": 63,
   "metadata": {},
   "outputs": [],
   "source": [
    "from myML.rl.qmodel import QLearning\n",
    "from myML.helper.plot import PlotHelper"
   ]
  },
  {
   "cell_type": "code",
   "execution_count": 53,
   "metadata": {},
   "outputs": [],
   "source": [
    "# define model\n",
    "ql = QLearning(state_num, action_num, get_state_id_func)\n",
    "# make plothelper\n",
    "ph = PlotHelper(\"output\",\"cartpole-ql\",plot_show=False)\n",
    "\n",
    "# learning episode\n",
    "MAX_EPISODE = 1200\n",
    "\n",
    "# define function to change eps\n",
    "eps_start = 0.4\n",
    "eps_zero_episode = MAX_EPISODE / 3\n",
    "eps_descent = eps_start / eps_zero_episode\n",
    "def get_eps(episode):\n",
    "    return max(eps_start - eps_descent * episode, 0.0)"
   ]
  },
  {
   "cell_type": "code",
   "execution_count": 54,
   "metadata": {},
   "outputs": [
    {
     "data": {
      "image/png": "[encoded data removed]",
      "text/plain": [
       "<Figure size 432x288 with 1 Axes>"
      ]
     },
     "metadata": {},
     "output_type": "display_data"
    }
   ],
   "source": [
    "# start learning\n",
    "for episode in range(MAX_EPISODE):\n",
    "    state = env.reset()\n",
    "    episode_reward = 0.0\n",
    "    eps = get_eps(episode)\n",
    "    \n",
    "    # start one episode\n",
    "    for t in range(200):\n",
    "        # decie action by epsilon greedy policy\n",
    "        action = ql.get_eps_greedy_action(state, eps=eps)\n",
    "        \n",
    "        # get the next state from the action\n",
    "        state, reward, done, _ = env.step(action)\n",
    "        episode_reward += reward\n",
    "        \n",
    "        # update q value\n",
    "        ql.update(state, reward, done)\n",
    "        \n",
    "        if done:\n",
    "            ph.add_data(episode, episode_reward)\n",
    "            break\n",
    "ph.plot()\n",
    "plt.show()"
   ]
  },
  {
   "cell_type": "code",
   "execution_count": 59,
   "metadata": {},
   "outputs": [
    {
     "name": "stdout",
     "output_type": "stream",
     "text": [
      "episode=0: reward=200.0\n",
      "episode=1: reward=200.0\n",
      "episode=2: reward=200.0\n",
      "episode=3: reward=200.0\n",
      "episode=4: reward=194.0\n"
     ]
    }
   ],
   "source": [
    "# solution by qlearning\n",
    "for episode in range(5):\n",
    "    state = env.reset()\n",
    "    env.render()\n",
    "    episode_reward=0.0\n",
    "    \n",
    "    for t in range(200):\n",
    "        action = ql.get_action(state)\n",
    "        state, reward, done, _ = env.step(action)\n",
    "        env.render()\n",
    "        episode_reward+=reward\n",
    "        if done:\n",
    "            print(\"episode={}: reward={}\".format(episode,episode_reward))\n",
    "            break"
   ]
  },
  {
   "cell_type": "markdown",
   "metadata": {},
   "source": [
    "## Sarsa"
   ]
  },
  {
   "cell_type": "code",
   "execution_count": 69,
   "metadata": {
    "collapsed": true
   },
   "outputs": [],
   "source": [
    "from myML.rl.qmodel import Sarsa"
   ]
  },
  {
   "cell_type": "code",
   "execution_count": 70,
   "metadata": {
    "collapsed": true
   },
   "outputs": [],
   "source": [
    "# define Sarsa model\n",
    "sarsa = Sarsa(state_num, action_num, get_state_id_func)\n",
    "\n",
    "# make plothelper\n",
    "ph = PlotHelper(\"output\",\"cartpole-sarsa\",plot_show=False)"
   ]
  },
  {
   "cell_type": "code",
   "execution_count": 74,
   "metadata": {},
   "outputs": [
    {
     "data": {
      "image/png": "[encoded data removed]",
      "text/plain": [
       "<Figure size 432x288 with 1 Axes>"
      ]
     },
     "metadata": {},
     "output_type": "display_data"
    }
   ],
   "source": [
    "# start learning\n",
    "for episode in range(MAX_EPISODE):\n",
    "    state = env.reset()\n",
    "    episode_reward = 0.0\n",
    "    eps = get_eps(episode)\n",
    "    \n",
    "    # start one episode\n",
    "    for t in range(200):\n",
    "        # decie action by epsilon greedy policy\n",
    "        action = sarsa.get_eps_greedy_action(state, eps=eps)\n",
    "        \n",
    "        # get the next state from the action\n",
    "        state, reward, done, _ = env.step(action)\n",
    "        episode_reward += reward\n",
    "        \n",
    "        # update q value\n",
    "        sarsa.update(reward, done)\n",
    "        \n",
    "        if done:\n",
    "            ph.add_data(episode, episode_reward)\n",
    "            break\n",
    "ph.plot()\n",
    "plt.show()"
   ]
  },
  {
   "cell_type": "code",
   "execution_count": 75,
   "metadata": {},
   "outputs": [
    {
     "name": "stdout",
     "output_type": "stream",
     "text": [
      "episode=0: reward=141.0\n",
      "episode=1: reward=177.0\n",
      "episode=2: reward=200.0\n",
      "episode=3: reward=116.0\n",
      "episode=4: reward=200.0\n"
     ]
    }
   ],
   "source": [
    "# solution by sarsa\n",
    "for episode in range(5):\n",
    "    state = env.reset()\n",
    "    env.render()\n",
    "    episode_reward=0.0\n",
    "    \n",
    "    for t in range(200):\n",
    "        action = sarsa.get_action(state)\n",
    "        state, reward, done, _ = env.step(action)\n",
    "        env.render()\n",
    "        episode_reward+=reward\n",
    "        if done:\n",
    "            print(\"episode={}: reward={}\".format(episode,episode_reward))\n",
    "            break"
   ]
  },
  {
   "cell_type": "code",
   "execution_count": null,
   "metadata": {
    "collapsed": true
   },
   "outputs": [],
   "source": []
  }
 ],
 "metadata": {
  "kernelspec": {
   "display_name": "Python [conda env:anaconda3-4.2.0]",
   "language": "python",
   "name": "conda-env-anaconda3-4.2.0-py"
  },
  "language_info": {
   "codemirror_mode": {
    "name": "ipython",
    "version": 3
   },
   "file_extension": ".py",
   "mimetype": "text/x-python",
   "name": "python",
   "nbconvert_exporter": "python",
   "pygments_lexer": "ipython3",
   "version": "3.5.3"
  }
 },
 "nbformat": 4,
 "nbformat_minor": 2
}
